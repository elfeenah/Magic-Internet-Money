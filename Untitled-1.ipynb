import os
import hashlib
import ecdsa
import time
import requests

# Function to generate a new Bitcoin payment address
def generate_payment_address():
    # Generate a new private key (32 bytes)
    private_key = os.urandom(32)
    
    # Create a public key using ECDSA
    signing_key = ecdsa.SigningKey.from_string(private_key, curve=ecdsa.SECP256k1)
    verifying_key = signing_key.get_verifying_key()
    public_key = bytes.fromhex("04") + verifying_key.to_string()

    # Create a Bitcoin address from the public key
    sha256_hash = hashlib.sha256(public_key)
    ripemd160_hash = hashlib.new("ripemd160")
    ripemd160_hash.update(sha256_hash.digest())
    public_key_hash = bytes.fromhex("00") + ripemd160_hash.digest()
    
    # Perform double SHA-256 hash to calculate checksum
    checksum = hashlib.sha256(hashlib.sha256(public_key_hash).digest()).digest()[:4]
    
    # Append checksum to public key hash
    address_bytes = public_key_hash + checksum
    
    # Encode the bytes in base58 to get the Bitcoin address
    address = base58_encode(address_bytes)
    
    return address

# Function to encode bytes in base58
def base58_encode(data):
    BASE58_ALPHABET = "123456789ABCDEFGHJKLMNPQRSTUVWXYZabcdefghijkmnopqrstuvwxyz"
    base58_string = ""

    num = int.from_bytes(data, byteorder="big")

    while num > 0:
        num, remainder = divmod(num, 58)
        base58_string = BASE58_ALPHABET[remainder] + base58_string

    return base58_string

# Function to check the balance of a Bitcoin address
def check_balance(address):
    url = f"https://blockchain.info/rawaddr/{address}"
    response = requests.get(url)
    if response.status_code == 200:
        data = response.json()
        balance = data["final_balance"] / 10**8
        return balance
    else:
        return None

if __name__ == "__main__":
    print("Welcome to the Magic Internet Money Payment System!")
    print("Generating a new Bitcoin payment address...")
    
    bitcoin_address = generate_payment_address()
    print("Payment Address:", bitcoin_address)

    print("Waiting for payments...")
    
    while True:
        balance = check_balance(bitcoin_address)
        if balance is not None and balance > 0:
            print(f"Payment Received! Balance: {balance} BTC")
            break
        time.sleep(10)  # Check every 10 seconds
