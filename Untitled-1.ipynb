{
 "cells": [
  {
   "cell_type": "code",
   "execution_count": null,
   "metadata": {},
   "outputs": [],
   "source": [
    "from flask import Flask, render_template\n",
    "import bitcoinlib\n",
    "import time\n",
    "\n",
    "app = Flask(__name__)\n",
    "\n",
    "# Create a Bitcoin address for receiving payments\n",
    "def create_payment_address():\n",
    "    wallet = bitcoinlib.wallets.create(\"my_wallet\")  # Create a wallet (you can use an existing wallet)\n",
    "    address = wallet.get_new_address(label=\"Payment Address\")\n",
    "    return address\n",
    "\n",
    "# Monitor the blockchain for incoming payments\n",
    "def monitor_payments(payment_address):\n",
    "    while True:\n",
    "        unspent_outputs = payment_address.get_unspent()\n",
    "        if unspent_outputs:\n",
    "            # Payment received, return a confirmation message\n",
    "            return \"Payment Received! Transaction ID:\", unspent_outputs[0].txid\n",
    "        time.sleep(10)  # Check every 10 seconds\n",
    "\n",
    "@app.route('/')\n",
    "def home():\n",
    "    payment_address = create_payment_address()\n",
    "    print(\"Payment Address:\", payment_address.address)\n",
    "\n",
    "    print(\"Waiting for payments...\")\n",
    "    confirmation_message = monitor_payments(payment_address)\n",
    "    \n",
    "    return render_template('index.html', address=payment_address.address, confirmation_message=confirmation_message)\n",
    "\n",
    "if __name__ == '__main__':\n",
    "    app.run(debug=True)\n"
   ]
  }
 ],
 "metadata": {
  "language_info": {
   "name": "python"
  },
  "orig_nbformat": 4
 },
 "nbformat": 4,
 "nbformat_minor": 2
}
