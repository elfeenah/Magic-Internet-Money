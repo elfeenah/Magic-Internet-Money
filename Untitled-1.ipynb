{
 "cells": [
  {
   "cell_type": "code",
   "execution_count": 1,
   "metadata": {},
   "outputs": [
    {
     "name": "stdout",
     "output_type": "stream",
     "text": [
      "Requirement already satisfied: ecdsa in c:\\users\\user\\appdata\\local\\programs\\python\\python310\\lib\\site-packages (0.18.0)Note: you may need to restart the kernel to use updated packages.\n",
      "\n",
      "Requirement already satisfied: six>=1.9.0 in c:\\users\\user\\appdata\\roaming\\python\\python310\\site-packages (from ecdsa) (1.16.0)\n"
     ]
    },
    {
     "name": "stderr",
     "output_type": "stream",
     "text": [
      "\n",
      "[notice] A new release of pip available: 22.2.1 -> 23.2.1\n",
      "[notice] To update, run: python.exe -m pip install --upgrade pip\n"
     ]
    }
   ],
   "source": [
    "pip install ecdsa"
   ]
  },
  {
   "cell_type": "code",
   "execution_count": 2,
   "metadata": {},
   "outputs": [
    {
     "name": "stdout",
     "output_type": "stream",
     "text": [
      "Requirement already satisfied: requests in c:\\users\\user\\appdata\\local\\programs\\python\\python310\\lib\\site-packages (2.31.0)\n",
      "Requirement already satisfied: urllib3<3,>=1.21.1 in c:\\users\\user\\appdata\\local\\programs\\python\\python310\\lib\\site-packages (from requests) (2.0.4)\n",
      "Requirement already satisfied: certifi>=2017.4.17 in c:\\users\\user\\appdata\\local\\programs\\python\\python310\\lib\\site-packages (from requests) (2023.7.22)\n",
      "Requirement already satisfied: charset-normalizer<4,>=2 in c:\\users\\user\\appdata\\local\\programs\\python\\python310\\lib\\site-packages (from requests) (3.2.0)\n",
      "Requirement already satisfied: idna<4,>=2.5 in c:\\users\\user\\appdata\\local\\programs\\python\\python310\\lib\\site-packages (from requests) (3.4)\n",
      "Note: you may need to restart the kernel to use updated packages.\n"
     ]
    },
    {
     "name": "stderr",
     "output_type": "stream",
     "text": [
      "\n",
      "[notice] A new release of pip available: 22.2.1 -> 23.2.1\n",
      "[notice] To update, run: python.exe -m pip install --upgrade pip\n"
     ]
    }
   ],
   "source": [
    "pip install requests"
   ]
  },
  {
   "cell_type": "code",
   "execution_count": 3,
   "metadata": {},
   "outputs": [
    {
     "name": "stdout",
     "output_type": "stream",
     "text": [
      "Generating a new Bitcoin payment address...\n",
      "Payment Address: 4okZ1HVsa2uJj4y1nE7GFTQKkxQHStfrS\n",
      "Checking balance...\n",
      "An error occurred: 404 Client Error: Not Found for url: https://blockchain.info/rawaddr/4okZ1HVsa2uJj4y1nE7GFTQKkxQHStfrS\n",
      "Error occurred while checking balance.\n"
     ]
    }
   ],
   "source": [
    "import os\n",
    "import hashlib\n",
    "from ecdsa import SigningKey, SECP256k1\n",
    "import time\n",
    "import requests\n",
    "\n",
    "# Function to generate a new Bitcoin payment address\n",
    "def generate_payment_address():\n",
    "    # Generate a new private key (32 bytes)\n",
    "    private_key = os.urandom(32)\n",
    "\n",
    "    # Create a public key using ECDSA\n",
    "    signing_key = SigningKey.from_string(private_key, curve=SECP256k1)\n",
    "    verifying_key = signing_key.get_verifying_key()\n",
    "    public_key = bytes.fromhex(\"04\") + verifying_key.to_string()\n",
    "\n",
    "    # Create a Bitcoin address from the public key\n",
    "    sha256_hash = hashlib.sha256(public_key)\n",
    "    ripemd160_hash = hashlib.new(\"ripemd160\")\n",
    "    ripemd160_hash.update(sha256_hash.digest())\n",
    "    public_key_hash = bytes.fromhex(\"00\") + ripemd160_hash.digest()\n",
    "\n",
    "    # Perform double SHA-256 hash to calculate checksum\n",
    "    checksum = hashlib.sha256(hashlib.sha256(public_key_hash).digest()).digest()[:4]\n",
    "\n",
    "    # Append checksum to public key hash\n",
    "    address_bytes = public_key_hash + checksum\n",
    "\n",
    "    # Encode the bytes in base58 to get the Bitcoin address\n",
    "    address = base58_encode(address_bytes)\n",
    "\n",
    "    return address\n",
    "\n",
    "# Function to encode bytes in base58\n",
    "def base58_encode(data):\n",
    "    BASE58_ALPHABET = \"123456789ABCDEFGHJKLMNPQRSTUVWXYZabcdefghijkmnopqrstuvwxyz\"\n",
    "    base58_string = \"\"\n",
    "\n",
    "    num = int.from_bytes(data, byteorder=\"big\")\n",
    "\n",
    "    while num > 0:\n",
    "        num, remainder = divmod(num, 58)\n",
    "        base58_string = BASE58_ALPHABET[remainder] + base58_string\n",
    "\n",
    "    return base58_string\n",
    "\n",
    "# Function to check the balance of a Bitcoin address\n",
    "def check_balance(address):\n",
    "    try:\n",
    "        url = f\"https://blockchain.info/rawaddr/{address}\"\n",
    "        response = requests.get(url)\n",
    "        response.raise_for_status()  # Raise an exception for HTTP errors\n",
    "\n",
    "        data = response.json()\n",
    "        balance = data[\"final_balance\"] / 10**8\n",
    "        return balance\n",
    "    except requests.exceptions.RequestException as e:\n",
    "        print(f\"An error occurred: {e}\")\n",
    "        return None\n",
    "\n",
    "if __name__ == '__main__':\n",
    "    print(\"Generating a new Bitcoin payment address...\")\n",
    "    bitcoin_address = generate_payment_address()\n",
    "    print(\"Payment Address:\", bitcoin_address)\n",
    "\n",
    "    print(\"Checking balance...\")\n",
    "    while True:\n",
    "        balance = check_balance(bitcoin_address)\n",
    "        if balance is not None and balance > 0:\n",
    "            print(f\"Payment Received! Balance: {balance} BTC\")\n",
    "            break\n",
    "        elif balance is None:\n",
    "            print(\"Error occurred while checking balance.\")\n",
    "            break\n",
    "        print(\"No balance found yet. Checking again in 10 seconds...\")\n",
    "        time.sleep(10)\n",
    "\n",
    "        import requests\n",
    "import time\n",
    "\n",
    "def check_balance(address):\n",
    "    url = f\"https://blockchain.info/rawaddr/{address}\"\n",
    "    max_retries = 5\n",
    "    retries = 0\n",
    "\n",
    "    while retries < max_retries:\n",
    "        try:\n",
    "            response = requests.get(url)\n",
    "            if response.status_code == 200:\n",
    "                data = response.json()\n",
    "                balance = data[\"final_balance\"] / 10**8\n",
    "                return balance\n",
    "        except requests.exceptions.RequestException as e:\n",
    "            print(f\"Network error: {e}\")\n",
    "        \n",
    "        # Wait for a few seconds before retrying\n",
    "        time.sleep(5)\n",
    "        retries += 1\n",
    "\n",
    "    print(\"Max retries exceeded. Could not check balance.\")\n",
    "    return None\n"
   ]
  }
 ],
 "metadata": {
  "kernelspec": {
   "display_name": "Python 3",
   "language": "python",
   "name": "python3"
  },
  "language_info": {
   "codemirror_mode": {
    "name": "ipython",
    "version": 3
   },
   "file_extension": ".py",
   "mimetype": "text/x-python",
   "name": "python",
   "nbconvert_exporter": "python",
   "pygments_lexer": "ipython3",
   "version": "3.10.6"
  },
  "orig_nbformat": 4
 },
 "nbformat": 4,
 "nbformat_minor": 2
}
