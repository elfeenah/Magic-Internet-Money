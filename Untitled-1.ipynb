pip install Flask bitcoinlib

from flask import Flask, render_template, request, flash, redirect, url_for
import bitcoinlib
import time

app = Flask(__name__)
app.secret_key = 'your_secret_key_here'  # Replace with a strong secret key

# Function to create a Bitcoin address for receiving payments
def create_payment_address():
    wallet = bitcoinlib.wallets.create("my_wallet")  # Create a wallet (you can use an existing wallet)
    address = wallet.get_new_address(label="Payment Address")
    return address

# Function to monitor Bitcoin payments
def monitor_bitcoin_payments(payment_address):
    while True:
        unspent_outputs = payment_address.get_unspent()
        if unspent_outputs:
            return "Payment Received! Transaction ID: " + unspent_outputs[0].txid
        time.sleep(10)  # Check every 10 seconds

@app.route('/', methods=['GET', 'POST'])
def home():
    if request.method == 'POST':
        payment_method = request.form['payment_method']
        payment_address = create_payment_address()

        if payment_method == 'Bitcoin':
            confirmation_message = monitor_bitcoin_payments(payment_address)
        else:
            # Add Lightning Network payment handling here
            confirmation_message = "Lightning payment initiated"

        flash(f"Please make the {payment_method} payment to: {payment_address.address}")
        return redirect(url_for('home'))

    return render_template('index.html')

if __name__ == '__main__':
    app.run(debug=True)

<!DOCTYPE html>
<html lang="en">
<head>
    <meta charset="UTF-8">
    <meta name="viewport" content="width=device-width, initial-scale=1.0">
    <title>Magic Internet Money Payment</title>
</head>
<body>
    <h1>Magic Internet Money Payment</h1>

    <form method="POST" action="/">
        <label for="payment_method">Select Payment Method:</label>
        <select name="payment_method" id="payment_method">
            <option value="Bitcoin">Bitcoin</option>
            <option value="Lightning">Lightning Network</option>
        </select>
        <br>
        <input type="submit" value="Generate Payment Address">
    </form>

    {% with messages = get_flashed_messages() %}
        {% if messages %}
            <div>
                <h3>Payment Instructions:</h3>
                <ul>
                    {% for message in messages %}
                        <li>{{ message }}</li>
                    {% endfor %}
                </ul>
            </div>
        {% endif %}
    {% endwith %}
</body>
</html>

python app.py
