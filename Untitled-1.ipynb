{
 "cells": [
  {
   "cell_type": "code",
   "execution_count": 10,
   "metadata": {},
   "outputs": [
    {
     "name": "stdout",
     "output_type": "stream",
     "text": [
      "Requirement already satisfied: flask in c:\\users\\user\\appdata\\local\\programs\\python\\python310\\lib\\site-packages (2.3.3)\n",
      "Requirement already satisfied: blinker>=1.6.2 in c:\\users\\user\\appdata\\local\\programs\\python\\python310\\lib\\site-packages (from flask) (1.6.2)\n",
      "Requirement already satisfied: Jinja2>=3.1.2 in c:\\users\\user\\appdata\\local\\programs\\python\\python310\\lib\\site-packages (from flask) (3.1.2)\n",
      "Requirement already satisfied: itsdangerous>=2.1.2 in c:\\users\\user\\appdata\\local\\programs\\python\\python310\\lib\\site-packages (from flask) (2.1.2)\n",
      "Requirement already satisfied: click>=8.1.3 in c:\\users\\user\\appdata\\local\\programs\\python\\python310\\lib\\site-packages (from flask) (8.1.7)\n",
      "Requirement already satisfied: Werkzeug>=2.3.7 in c:\\users\\user\\appdata\\local\\programs\\python\\python310\\lib\\site-packages (from flask) (2.3.7)\n",
      "Requirement already satisfied: colorama in c:\\users\\user\\appdata\\roaming\\python\\python310\\site-packages (from click>=8.1.3->flask) (0.4.6)\n",
      "Requirement already satisfied: MarkupSafe>=2.0 in c:\\users\\user\\appdata\\local\\programs\\python\\python310\\lib\\site-packages (from Jinja2>=3.1.2->flask) (2.1.3)\n",
      "Note: you may need to restart the kernel to use updated packages.\n"
     ]
    },
    {
     "name": "stderr",
     "output_type": "stream",
     "text": [
      "\n",
      "[notice] A new release of pip available: 22.2.1 -> 23.2.1\n",
      "[notice] To update, run: python.exe -m pip install --upgrade pip\n"
     ]
    }
   ],
   "source": [
    "pip install flask"
   ]
  },
  {
   "cell_type": "code",
   "execution_count": 11,
   "metadata": {},
   "outputs": [
    {
     "name": "stdout",
     "output_type": "stream",
     "text": [
      "Requirement already satisfied: bitcoin in c:\\users\\user\\appdata\\local\\programs\\python\\python310\\lib\\site-packages (1.1.42)\n",
      "Note: you may need to restart the kernel to use updated packages.\n"
     ]
    },
    {
     "name": "stderr",
     "output_type": "stream",
     "text": [
      "\n",
      "[notice] A new release of pip available: 22.2.1 -> 23.2.1\n",
      "[notice] To update, run: python.exe -m pip install --upgrade pip\n"
     ]
    }
   ],
   "source": [
    "pip install bitcoin"
   ]
  },
  {
   "cell_type": "code",
   "execution_count": 13,
   "metadata": {},
   "outputs": [
    {
     "ename": "SyntaxError",
     "evalue": "invalid character '│' (U+2502) (3387842011.py, line 2)",
     "output_type": "error",
     "traceback": [
      "\u001b[1;36m  Cell \u001b[1;32mIn[13], line 2\u001b[1;36m\u001b[0m\n\u001b[1;33m    │\u001b[0m\n\u001b[1;37m    ^\u001b[0m\n\u001b[1;31mSyntaxError\u001b[0m\u001b[1;31m:\u001b[0m invalid character '│' (U+2502)\n"
     ]
    }
   ],
   "source": [
    "magic_internet_money/\n",
    "│\n",
    "├── frontend/\n",
    "│   ├── templates/\n",
    "│   │   ├── index.html\n",
    "│   │   ├── payment.html\n",
    "│   │   └── confirmation.html\n",
    "│   ├── static/\n",
    "│   │   ├── style.css\n",
    "│   └── app.py\n",
    "│\n",
    "├── backend/\n",
    "│   ├── main.py\n",
    "│   ├── bitcoin.py\n",
    "│   └── lightning.py\n",
    "│\n",
    "└── rust/\n",
    "    ├── Cargo.toml\n",
    "    └── src/\n",
    "        └── main.rs\n"
   ]
  },
  {
   "cell_type": "code",
   "execution_count": null,
   "metadata": {},
   "outputs": [
    {
     "name": "stdout",
     "output_type": "stream",
     "text": [
      " * Serving Flask app '__main__'\n",
      " * Debug mode: on\n"
     ]
    },
    {
     "name": "stderr",
     "output_type": "stream",
     "text": [
      "WARNING: This is a development server. Do not use it in a production deployment. Use a production WSGI server instead.\n",
      " * Running on http://127.0.0.1:5000\n",
      "Press CTRL+C to quit\n",
      " * Restarting with stat\n"
     ]
    },
    {
     "ename": "SystemExit",
     "evalue": "1",
     "output_type": "error",
     "traceback": [
      "An exception has occurred, use %tb to see the full traceback.\n",
      "\u001b[1;31mSystemExit\u001b[0m\u001b[1;31m:\u001b[0m 1\n"
     ]
    }
   ],
   "source": [
    "from flask import Flask, render_template, request, redirect, url_for\n",
    "import requests\n",
    "\n",
    "app = Flask(__name__)\n",
    "\n",
    "@app.route('/')\n",
    "def index():\n",
    "    return render_template('index.html')\n",
    "\n",
    "@app.route('/payment', methods=['GET', 'POST'])\n",
    "def payment():\n",
    "    if request.method == 'POST':\n",
    "        payment_type = request.form['payment_type']\n",
    "        if payment_type == 'bitcoin':\n",
    "            # Generate a Bitcoin address and handle the payment\n",
    "            address, private_key = generate_bitcoin_address()\n",
    "            return render_template('confirmation.html', payment_type='Bitcoin', address=address)\n",
    "        elif payment_type == 'lightning':\n",
    "            # Generate a Lightning invoice and handle the payment\n",
    "            invoice = generate_lightning_invoice()\n",
    "            return render_template('confirmation.html', payment_type='Lightning', invoice=invoice)\n",
    "    return render_template('payment.html')\n",
    "\n",
    "if __name__ == '__main__':\n",
    "    app.run(debug=True)\n"
   ]
  },
  {
   "cell_type": "code",
   "execution_count": null,
   "metadata": {},
   "outputs": [
    {
     "ename": "ImportError",
     "evalue": "cannot import name 'generate_bitcoin_address' from 'bitcoin' (c:\\Users\\USER\\AppData\\Local\\Programs\\Python\\Python310\\lib\\site-packages\\bitcoin\\__init__.py)",
     "output_type": "error",
     "traceback": [
      "\u001b[1;31m---------------------------------------------------------------------------\u001b[0m",
      "\u001b[1;31mImportError\u001b[0m                               Traceback (most recent call last)",
      "Cell \u001b[1;32mIn[48], line 2\u001b[0m\n\u001b[0;32m      1\u001b[0m \u001b[39mfrom\u001b[39;00m \u001b[39mflask\u001b[39;00m \u001b[39mimport\u001b[39;00m Flask, request, jsonify\n\u001b[1;32m----> 2\u001b[0m \u001b[39mfrom\u001b[39;00m \u001b[39mbitcoin\u001b[39;00m \u001b[39mimport\u001b[39;00m generate_bitcoin_address, check_bitcoin_balance\n\u001b[0;32m      3\u001b[0m \u001b[39mfrom\u001b[39;00m \u001b[39mlightning\u001b[39;00m \u001b[39mimport\u001b[39;00m generate_lightning_invoice, check_lightning_payment\n\u001b[0;32m      5\u001b[0m app \u001b[39m=\u001b[39m Flask(\u001b[39m__name__\u001b[39m)\n",
      "\u001b[1;31mImportError\u001b[0m: cannot import name 'generate_bitcoin_address' from 'bitcoin' (c:\\Users\\USER\\AppData\\Local\\Programs\\Python\\Python310\\lib\\site-packages\\bitcoin\\__init__.py)"
     ]
    }
   ],
   "source": [
    "from flask import Flask, request, jsonify\n",
    "from bitcoin import generate_bitcoin_address, check_bitcoin_balance\n",
    "from lightning import generate_lightning_invoice, check_lightning_payment\n",
    "\n",
    "app = Flask(__name__)\n",
    "\n",
    "@app.route('/api/bitcoin/address', methods=['GET'])\n",
    "def get_bitcoin_address():\n",
    "    address, private_key = generate_bitcoin_address()\n",
    "    return jsonify({'address': address, 'private_key': private_key.hex()})\n",
    "\n",
    "@app.route('/api/lightning/invoice', methods=['GET'])\n",
    "def get_lightning_invoice():\n",
    "    invoice = generate_lightning_invoice()\n",
    "    return jsonify({'invoice': invoice})\n",
    "\n",
    "@app.route('/api/bitcoin/check_balance/<address>', methods=['GET'])\n",
    "def check_bitcoin(address):\n",
    "    balance = check_bitcoin_balance(address)\n",
    "    return jsonify({'balance': balance})\n",
    "\n",
    "@app.route('/api/lightning/check_payment/<invoice>', methods=['GET'])\n",
    "def check_lightning(invoice):\n",
    "    payment_received = check_lightning_payment(invoice)\n",
    "    return jsonify({'payment_received': payment_received})\n",
    "\n",
    "if __name__ == '__main__':\n",
    "    app.run(debug=True)\n"
   ]
  },
  {
   "cell_type": "code",
   "execution_count": null,
   "metadata": {},
   "outputs": [],
   "source": [
    "import os\n",
    "import hashlib\n",
    "import ecdsa\n",
    "import requests\n",
    "import time\n",
    "\n",
    "def generate_bitcoin_address():\n",
    "    # Generate a new private key (32 bytes)\n",
    "    private_key = os.urandom(32)\n",
    "\n",
    "    # Create a public key using ECDSA\n",
    "    signing_key = ecdsa.SigningKey.from_string(private_key, curve=ecdsa.SECP256k1)\n",
    "    verifying_key = signing_key.get_verifying_key()\n",
    "    public_key = bytes.fromhex(\"04\") + verifying_key.to_string()\n",
    "\n",
    "    # Create a Bitcoin address from the public key\n",
    "    sha256_hash = hashlib.sha256(public_key)\n",
    "    ripemd160_hash = hashlib.new(\"ripemd160\")\n",
    "    ripemd160_hash.update(sha256_hash.digest())\n",
    "    public_key_hash = bytes.fromhex(\"00\") + ripemd160_hash.digest()\n",
    "\n",
    "    # Perform double SHA-256 hash to calculate checksum\n",
    "    checksum = hashlib.sha256(hashlib.sha256(public_key_hash).digest()).digest()[:4]\n",
    "\n",
    "    # Append checksum to public key hash\n",
    "    address_bytes = public_key_hash + checksum\n",
    "\n",
    "    # Encode the bytes in base58 to get the Bitcoin address\n",
    "    address = base58_encode(address_bytes)\n",
    "\n",
    "    return address, private_key\n",
    "\n",
    "def check_bitcoin_balance(address):\n",
    "    url = f\"https://blockchain.info/rawaddr/{address}\"\n",
    "    try:\n",
    "        response = requests.get(url)\n",
    "        if response.status_code == 200:\n",
    "            data = response.json()\n",
    "            balance = data[\"final_balance\"] / 10**8\n",
    "            return balance\n",
    "        else:\n",
    "            return None\n",
    "    except requests.exceptions.RequestException:\n",
    "        return None\n",
    "\n",
    "def base58_encode(data):\n",
    "    BASE58_ALPHABET = \"123456789ABCDEFGHJKLMNPQRSTUVWXYZabcdefghijkmnopqrstuvwxyz\"\n",
    "    base58_string = \"\"\n",
    "\n",
    "    num = int.from_bytes(data, byteorder=\"big\")\n",
    "\n",
    "    while num > 0:\n",
    "        num, remainder = divmod(num, 58)\n",
    "        base58_string = BASE58_ALPHABET[remainder] + base58_string\n",
    "\n",
    "    return base58_string\n"
   ]
  }
 ],
 "metadata": {
  "kernelspec": {
   "display_name": "Python 3",
   "language": "python",
   "name": "python3"
  },
  "language_info": {
   "codemirror_mode": {
    "name": "ipython",
    "version": 3
   },
   "file_extension": ".py",
   "mimetype": "text/x-python",
   "name": "python",
   "nbconvert_exporter": "python",
   "pygments_lexer": "ipython3",
   "version": "3.10.6"
  },
  "orig_nbformat": 4
 },
 "nbformat": 4,
 "nbformat_minor": 2
}
