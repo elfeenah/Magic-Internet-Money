{
 "cells": [
  {
   "cell_type": "code",
   "execution_count": 56,
   "metadata": {},
   "outputs": [
    {
     "name": "stdout",
     "output_type": "stream",
     "text": [
      "Requirement already satisfied: flask in c:\\users\\user\\appdata\\local\\programs\\python\\python310\\lib\\site-packages (2.3.3)\n",
      "Requirement already satisfied: click>=8.1.3 in c:\\users\\user\\appdata\\local\\programs\\python\\python310\\lib\\site-packages (from flask) (8.1.7)\n",
      "Requirement already satisfied: blinker>=1.6.2 in c:\\users\\user\\appdata\\local\\programs\\python\\python310\\lib\\site-packages (from flask) (1.6.2)\n",
      "Requirement already satisfied: Jinja2>=3.1.2 in c:\\users\\user\\appdata\\local\\programs\\python\\python310\\lib\\site-packages (from flask) (3.1.2)\n",
      "Requirement already satisfied: Werkzeug>=2.3.7 in c:\\users\\user\\appdata\\local\\programs\\python\\python310\\lib\\site-packages (from flask) (2.3.7)\n",
      "Requirement already satisfied: itsdangerous>=2.1.2 in c:\\users\\user\\appdata\\local\\programs\\python\\python310\\lib\\site-packages (from flask) (2.1.2)\n",
      "Requirement already satisfied: colorama in c:\\users\\user\\appdata\\roaming\\python\\python310\\site-packages (from click>=8.1.3->flask) (0.4.6)\n",
      "Requirement already satisfied: MarkupSafe>=2.0 in c:\\users\\user\\appdata\\local\\programs\\python\\python310\\lib\\site-packages (from Jinja2>=3.1.2->flask) (2.1.3)\n",
      "Note: you may need to restart the kernel to use updated packages.\n"
     ]
    },
    {
     "name": "stderr",
     "output_type": "stream",
     "text": [
      "\n",
      "[notice] A new release of pip available: 22.2.1 -> 23.2.1\n",
      "[notice] To update, run: python.exe -m pip install --upgrade pip\n"
     ]
    }
   ],
   "source": [
    "pip install flask"
   ]
  },
  {
   "cell_type": "code",
   "execution_count": 57,
   "metadata": {},
   "outputs": [
    {
     "ename": "SyntaxError",
     "evalue": "invalid syntax (2896795704.py, line 1)",
     "output_type": "error",
     "traceback": [
      "\u001b[1;36m  Cell \u001b[1;32mIn[57], line 1\u001b[1;36m\u001b[0m\n\u001b[1;33m    <!DOCTYPE html>\u001b[0m\n\u001b[1;37m    ^\u001b[0m\n\u001b[1;31mSyntaxError\u001b[0m\u001b[1;31m:\u001b[0m invalid syntax\n"
     ]
    }
   ],
   "source": [
    "<!DOCTYPE html>\n",
    "<html lang=\"en\">\n",
    "<head>\n",
    "    <meta charset=\"UTF-8\">\n",
    "    <meta name=\"viewport\" content=\"width=device-width, initial-scale=1.0\">\n",
    "    <link rel=\"stylesheet\" href=\"{{ url_for('static', filename='style.css') }}\">\n",
    "    <title>Magic Internet Money Payment System</title>\n",
    "</head>\n",
    "<body>\n",
    "    <header>\n",
    "        <h1>Magic Internet Money Payment System</h1>\n",
    "        <p>Welcome to the Magic Internet Money Payment System!</p>\n",
    "    </header>\n",
    "    <section id=\"payment-form\">\n",
    "        <h2>Payment Type</h2>\n",
    "        <form method=\"POST\" action=\"/payment\">\n",
    "            <label for=\"payment_type\">Select Payment Type:</label>\n",
    "            <select id=\"payment_type\" name=\"payment_type\" required>\n",
    "                <option value=\"bitcoin\">Bitcoin</option>\n",
    "                <option value=\"lightning\">Lightning</option>\n",
    "            </select>\n",
    "            <button type=\"submit\">Proceed</button>\n",
    "        </form>\n",
    "    </section>\n",
    "    <section id=\"confirmation\">\n",
    "        <h2>Payment Confirmation</h2>\n",
    "        {% if payment_type and address_or_invoice %}\n",
    "            <p>You have successfully made a {{ payment_type }} payment.</p>\n",
    "            <p>{{ payment_type }} Address/Invoice: {{ address_or_invoice }}</p>\n",
    "        {% endif %}\n",
    "    </section>\n",
    "</body>\n",
    "</html>\n"
   ]
  },
  {
   "cell_type": "code",
   "execution_count": null,
   "metadata": {},
   "outputs": [
    {
     "name": "stdout",
     "output_type": "stream",
     "text": [
      " * Serving Flask app '__main__'\n",
      " * Debug mode: on\n"
     ]
    },
    {
     "name": "stderr",
     "output_type": "stream",
     "text": [
      "WARNING: This is a development server. Do not use it in a production deployment. Use a production WSGI server instead.\n",
      " * Running on http://127.0.0.1:5000\n",
      "Press CTRL+C to quit\n",
      " * Restarting with stat\n"
     ]
    },
    {
     "ename": "SystemExit",
     "evalue": "1",
     "output_type": "error",
     "traceback": [
      "An exception has occurred, use %tb to see the full traceback.\n",
      "\u001b[1;31mSystemExit\u001b[0m\u001b[1;31m:\u001b[0m 1\n"
     ]
    }
   ],
   "source": [
    "from flask import Flask, render_template, request, redirect, url_for\n",
    "import requests\n",
    "import os\n",
    "import hashlib\n",
    "import ecdsa\n",
    "\n",
    "from flask import Flask, render_template, request\n",
    "\n",
    "app = Flask(__name__)\n",
    "\n",
    "@app.route('/')\n",
    "def index():\n",
    "    return render_template('index.html')\n",
    "\n",
    "@app.route('/payment', methods=['GET', 'POST'])\n",
    "def payment():\n",
    "    if request.method == 'POST':\n",
    "        payment_type = request.form['payment_type']\n",
    "        if payment_type == 'bitcoin':\n",
    "            # Replace this with Bitcoin payment handling logic\n",
    "            address = 'Your Bitcoin Address'\n",
    "            return render_template('confirmation.html', payment_type='Bitcoin', address=address)\n",
    "        elif payment_type == 'lightning':\n",
    "            # Replace this with Lightning payment handling logic\n",
    "            invoice = 'Your Lightning Invoice'\n",
    "            return render_template('confirmation.html', payment_type='Lightning', invoice=invoice)\n",
    "    return render_template('payment.html')\n",
    "\n",
    "if __name__ == '__main__':\n",
    "    app.run(debug=True)\n",
    "\n",
    "def generate_bitcoin_address():\n",
    "    # Generate a new private key (32 bytes)\n",
    "    private_key = os.urandom(32)\n",
    "\n",
    "    # Create a public key using ECDSA\n",
    "    signing_key = ecdsa.SigningKey.from_string(private_key, curve=ecdsa.SECP256k1)\n",
    "    verifying_key = signing_key.get_verifying_key()\n",
    "    public_key = bytes.fromhex(\"04\") + verifying_key.to_string()\n",
    "\n",
    "    # Create a Bitcoin address from the public key\n",
    "    sha256_hash = hashlib.sha256(public_key)\n",
    "    ripemd160_hash = hashlib.new(\"ripemd160\")\n",
    "    ripemd160_hash.update(sha256_hash.digest())\n",
    "    public_key_hash = bytes.fromhex(\"00\") + ripemd160_hash.digest()\n",
    "\n",
    "    # Perform double SHA-256 hash to calculate checksum\n",
    "    checksum = hashlib.sha256(hashlib.sha256(public_key_hash).digest()).digest()[:4]\n",
    "\n",
    "    # Append checksum to public key hash\n",
    "    address_bytes = public_key_hash + checksum\n",
    "\n",
    "    # Encode the bytes in base58 to get the Bitcoin address\n",
    "    address = base58_encode(address_bytes)\n",
    "\n",
    "    return address, private_key\n",
    "\n",
    "def generate_lightning_invoice():\n",
    "    # Generate a sample Lightning invoice (replace with actual implementation)\n",
    "    return \"lnbc1234567890\"\n",
    "\n",
    "def base58_encode(data):\n",
    "    BASE58_ALPHABET = \"123456789ABCDEFGHJKLMNPQRSTUVWXYZabcdefghijkmnopqrstuvwxyz\"\n",
    "    base58_string = \"\"\n",
    "\n",
    "    num = int.from_bytes(data, byteorder=\"big\")\n",
    "\n",
    "    while num > 0:\n",
    "        num, remainder = divmod(num, 58)\n",
    "        base58_string = BASE58_ALPHABET[remainder] + base58_string\n",
    "\n",
    "    return base58_string\n",
    "\n",
    "if __name__ == '__main__':\n",
    "    app.run(debug=True)\n"
   ]
  },
  {
   "cell_type": "code",
   "execution_count": null,
   "metadata": {},
   "outputs": [],
   "source": [
    "import os\n",
    "import hashlib\n",
    "import ecdsa\n",
    "import requests\n",
    "\n",
    "def generate_bitcoin_address():\n",
    "    # Generate a new private key (32 bytes)\n",
    "    private_key = os.urandom(32)\n",
    "\n",
    "    # Create a public key using ECDSA\n",
    "    signing_key = ecdsa.SigningKey.from_string(private_key, curve=ecdsa.SECP256k1)\n",
    "    verifying_key = signing_key.get_verifying_key()\n",
    "    public_key = bytes.fromhex(\"04\") + verifying_key.to_string()\n",
    "\n",
    "    # Create a Bitcoin address from the public key\n",
    "    sha256_hash = hashlib.sha256(public_key)\n",
    "    ripemd160_hash = hashlib.new(\"ripemd160\")\n",
    "    ripemd160_hash.update(sha256_hash.digest())\n",
    "    public_key_hash = bytes.fromhex(\"00\") + ripemd160_hash.digest()\n",
    "\n",
    "    # Perform double SHA-256 hash to calculate checksum\n",
    "    checksum = hashlib.sha256(hashlib.sha256(public_key_hash).digest()).digest()[:4]\n",
    "\n",
    "    # Append checksum to public key hash\n",
    "    address_bytes = public_key_hash + checksum\n",
    "\n",
    "    # Encode the bytes in base58 to get the Bitcoin address\n",
    "    address = base58_encode(address_bytes)\n",
    "\n",
    "    return address, private_key\n",
    "\n",
    "def check_bitcoin_balance(address):\n",
    "    url = f\"https://blockchain.info/rawaddr/{address}\"\n",
    "    try:\n",
    "        response = requests.get(url)\n",
    "        if response.status_code == 200:\n",
    "            data = response.json()\n",
    "            balance = data[\"final_balance\"] / 10**8\n",
    "            return balance\n",
    "        else:\n",
    "            return None\n",
    "    except requests.exceptions.RequestException:\n",
    "        return None\n",
    "\n",
    "def base58_encode(data):\n",
    "    BASE58_ALPHABET = \"123456789ABCDEFGHJKLMNPQRSTUVWXYZabcdefghijkmnopqrstuvwxyz\"\n",
    "    base58_string = \"\"\n",
    "\n",
    "    num = int.from_bytes(data, byteorder=\"big\")\n",
    "\n",
    "    while num > 0:\n",
    "        num, remainder = divmod(num, 58)\n",
    "        base58_string = BASE58_ALPHABET[remainder] + base58_string\n",
    "\n",
    "    return base58_string\n"
   ]
  },
  {
   "cell_type": "code",
   "execution_count": null,
   "metadata": {},
   "outputs": [
    {
     "ename": "ImportError",
     "evalue": "cannot import name 'generate_bitcoin_address' from 'bitcoin' (c:\\Users\\USER\\AppData\\Local\\Programs\\Python\\Python310\\lib\\site-packages\\bitcoin\\__init__.py)",
     "output_type": "error",
     "traceback": [
      "\u001b[1;31m---------------------------------------------------------------------------\u001b[0m",
      "\u001b[1;31mImportError\u001b[0m                               Traceback (most recent call last)",
      "Cell \u001b[1;32mIn[32], line 1\u001b[0m\n\u001b[1;32m----> 1\u001b[0m \u001b[39mfrom\u001b[39;00m \u001b[39mbitcoin\u001b[39;00m \u001b[39mimport\u001b[39;00m generate_bitcoin_address, check_bitcoin_balance\n",
      "\u001b[1;31mImportError\u001b[0m: cannot import name 'generate_bitcoin_address' from 'bitcoin' (c:\\Users\\USER\\AppData\\Local\\Programs\\Python\\Python310\\lib\\site-packages\\bitcoin\\__init__.py)"
     ]
    }
   ],
   "source": [
    "from bitcoin import generate_bitcoin_address, check_bitcoin_balance\n"
   ]
  },
  {
   "cell_type": "code",
   "execution_count": null,
   "metadata": {},
   "outputs": [
    {
     "ename": "AssertionError",
     "evalue": "View function mapping is overwriting an existing endpoint function: payment",
     "output_type": "error",
     "traceback": [
      "\u001b[1;31m---------------------------------------------------------------------------\u001b[0m",
      "\u001b[1;31mAssertionError\u001b[0m                            Traceback (most recent call last)",
      "Cell \u001b[1;32mIn[33], line 2\u001b[0m\n\u001b[0;32m      1\u001b[0m \u001b[39m@app\u001b[39;49m\u001b[39m.\u001b[39;49mroute(\u001b[39m'\u001b[39;49m\u001b[39m/payment\u001b[39;49m\u001b[39m'\u001b[39;49m, methods\u001b[39m=\u001b[39;49m[\u001b[39m'\u001b[39;49m\u001b[39mGET\u001b[39;49m\u001b[39m'\u001b[39;49m, \u001b[39m'\u001b[39;49m\u001b[39mPOST\u001b[39;49m\u001b[39m'\u001b[39;49m])\n\u001b[1;32m----> 2\u001b[0m \u001b[39mdef\u001b[39;49;00m \u001b[39mpayment\u001b[39;49m():\n\u001b[0;32m      3\u001b[0m     \u001b[39mif\u001b[39;49;00m request\u001b[39m.\u001b[39;49mmethod \u001b[39m==\u001b[39;49m \u001b[39m'\u001b[39;49m\u001b[39mPOST\u001b[39;49m\u001b[39m'\u001b[39;49m:\n\u001b[0;32m      4\u001b[0m         payment_type \u001b[39m=\u001b[39;49m request\u001b[39m.\u001b[39;49mform[\u001b[39m'\u001b[39;49m\u001b[39mpayment_type\u001b[39;49m\u001b[39m'\u001b[39;49m]\n",
      "File \u001b[1;32mc:\\Users\\USER\\AppData\\Local\\Programs\\Python\\Python310\\lib\\site-packages\\flask\\scaffold.py:435\u001b[0m, in \u001b[0;36mScaffold.route.<locals>.decorator\u001b[1;34m(f)\u001b[0m\n\u001b[0;32m    433\u001b[0m \u001b[39mdef\u001b[39;00m \u001b[39mdecorator\u001b[39m(f: T_route) \u001b[39m-\u001b[39m\u001b[39m>\u001b[39m T_route:\n\u001b[0;32m    434\u001b[0m     endpoint \u001b[39m=\u001b[39m options\u001b[39m.\u001b[39mpop(\u001b[39m\"\u001b[39m\u001b[39mendpoint\u001b[39m\u001b[39m\"\u001b[39m, \u001b[39mNone\u001b[39;00m)\n\u001b[1;32m--> 435\u001b[0m     \u001b[39mself\u001b[39m\u001b[39m.\u001b[39madd_url_rule(rule, endpoint, f, \u001b[39m*\u001b[39m\u001b[39m*\u001b[39moptions)\n\u001b[0;32m    436\u001b[0m     \u001b[39mreturn\u001b[39;00m f\n",
      "File \u001b[1;32mc:\\Users\\USER\\AppData\\Local\\Programs\\Python\\Python310\\lib\\site-packages\\flask\\scaffold.py:50\u001b[0m, in \u001b[0;36msetupmethod.<locals>.wrapper_func\u001b[1;34m(self, *args, **kwargs)\u001b[0m\n\u001b[0;32m     48\u001b[0m \u001b[39mdef\u001b[39;00m \u001b[39mwrapper_func\u001b[39m(\u001b[39mself\u001b[39m, \u001b[39m*\u001b[39margs: t\u001b[39m.\u001b[39mAny, \u001b[39m*\u001b[39m\u001b[39m*\u001b[39mkwargs: t\u001b[39m.\u001b[39mAny) \u001b[39m-\u001b[39m\u001b[39m>\u001b[39m t\u001b[39m.\u001b[39mAny:\n\u001b[0;32m     49\u001b[0m     \u001b[39mself\u001b[39m\u001b[39m.\u001b[39m_check_setup_finished(f_name)\n\u001b[1;32m---> 50\u001b[0m     \u001b[39mreturn\u001b[39;00m f(\u001b[39mself\u001b[39m, \u001b[39m*\u001b[39margs, \u001b[39m*\u001b[39m\u001b[39m*\u001b[39mkwargs)\n",
      "File \u001b[1;32mc:\\Users\\USER\\AppData\\Local\\Programs\\Python\\Python310\\lib\\site-packages\\flask\\app.py:1059\u001b[0m, in \u001b[0;36mFlask.add_url_rule\u001b[1;34m(self, rule, endpoint, view_func, provide_automatic_options, **options)\u001b[0m\n\u001b[0;32m   1057\u001b[0m old_func \u001b[39m=\u001b[39m \u001b[39mself\u001b[39m\u001b[39m.\u001b[39mview_functions\u001b[39m.\u001b[39mget(endpoint)\n\u001b[0;32m   1058\u001b[0m \u001b[39mif\u001b[39;00m old_func \u001b[39mis\u001b[39;00m \u001b[39mnot\u001b[39;00m \u001b[39mNone\u001b[39;00m \u001b[39mand\u001b[39;00m old_func \u001b[39m!=\u001b[39m view_func:\n\u001b[1;32m-> 1059\u001b[0m     \u001b[39mraise\u001b[39;00m \u001b[39mAssertionError\u001b[39;00m(\n\u001b[0;32m   1060\u001b[0m         \u001b[39m\"\u001b[39m\u001b[39mView function mapping is overwriting an existing\u001b[39m\u001b[39m\"\u001b[39m\n\u001b[0;32m   1061\u001b[0m         \u001b[39mf\u001b[39m\u001b[39m\"\u001b[39m\u001b[39m endpoint function: \u001b[39m\u001b[39m{\u001b[39;00mendpoint\u001b[39m}\u001b[39;00m\u001b[39m\"\u001b[39m\n\u001b[0;32m   1062\u001b[0m     )\n\u001b[0;32m   1063\u001b[0m \u001b[39mself\u001b[39m\u001b[39m.\u001b[39mview_functions[endpoint] \u001b[39m=\u001b[39m view_func\n",
      "\u001b[1;31mAssertionError\u001b[0m: View function mapping is overwriting an existing endpoint function: payment"
     ]
    }
   ],
   "source": [
    "@app.route('/payment', methods=['GET', 'POST'])\n",
    "def payment():\n",
    "    if request.method == 'POST':\n",
    "        payment_type = request.form['payment_type']\n",
    "        if payment_type == 'bitcoin':\n",
    "            # Generate a Bitcoin address and handle the payment\n",
    "            address, private_key = generate_bitcoin_address()\n",
    "            return render_template('confirmation.html', payment_type='Bitcoin', address=address)\n",
    "        elif payment_type == 'lightning':\n",
    "            # Generate a Lightning invoice and handle the payment\n",
    "            invoice = generate_lightning_invoice()\n",
    "            return render_template('confirmation.html', payment_type='Lightning', invoice=invoice)\n",
    "    return render_template('payment.html')\n"
   ]
  },
  {
   "cell_type": "code",
   "execution_count": null,
   "metadata": {},
   "outputs": [],
   "source": [
    "@app.route('/bitcoin/confirmation/<address>', methods=['GET'])\n",
    "def bitcoin_confirmation(address):\n",
    "    balance = check_bitcoin_balance(address)\n",
    "    if balance is not None and balance > 0:\n",
    "        return f\"Payment Received! Balance: {balance} BTC\"\n",
    "    else:\n",
    "        return \"Payment Not Received\"\n"
   ]
  },
  {
   "cell_type": "code",
   "execution_count": null,
   "metadata": {},
   "outputs": [
    {
     "ename": "SyntaxError",
     "evalue": "invalid syntax (3594800392.py, line 1)",
     "output_type": "error",
     "traceback": [
      "\u001b[1;36m  Cell \u001b[1;32mIn[35], line 1\u001b[1;36m\u001b[0m\n\u001b[1;33m    {% if payment_type == 'Bitcoin' %}\u001b[0m\n\u001b[1;37m     ^\u001b[0m\n\u001b[1;31mSyntaxError\u001b[0m\u001b[1;31m:\u001b[0m invalid syntax\n"
     ]
    }
   ],
   "source": [
    "{% if payment_type == 'Bitcoin' %}\n",
    "    <p>Payment Address: {{ address }}</p>\n",
    "    <p><a href=\"{{ url_for('bitcoin_confirmation', address=address) }}\">Check Payment Status</a></p>\n",
    "{% endif %}\n"
   ]
  },
  {
   "cell_type": "code",
   "execution_count": null,
   "metadata": {},
   "outputs": [
    {
     "ename": "SyntaxError",
     "evalue": "invalid decimal literal (2473372924.py, line 16)",
     "output_type": "error",
     "traceback": [
      "\u001b[1;36m  Cell \u001b[1;32mIn[36], line 16\u001b[1;36m\u001b[0m\n\u001b[1;33m    padding: 20px;\u001b[0m\n\u001b[1;37m              ^\u001b[0m\n\u001b[1;31mSyntaxError\u001b[0m\u001b[1;31m:\u001b[0m invalid decimal literal\n"
     ]
    }
   ],
   "source": [
    "/* style.css */\n",
    "\n",
    "/* Body styles */\n",
    "body {\n",
    "    font-family: Arial, sans-serif;\n",
    "    background-color: #f2f2f2;\n",
    "    margin: 0;\n",
    "    padding: 0;\n",
    "}\n",
    "\n",
    "/* Header styles */\n",
    "header {\n",
    "    background-color: #333;\n",
    "    color: #fff;\n",
    "    text-align: center;\n",
    "    padding: 20px;\n",
    "}\n",
    "\n",
    "/* Container styles */\n",
    ".container {\n",
    "    max-width: 800px;\n",
    "    margin: 0 auto;\n",
    "    padding: 20px;\n",
    "    background-color: #fff;\n",
    "    box-shadow: 0 0 10px rgba(0, 0, 0, 0.1);\n",
    "    border-radius: 5px;\n",
    "}\n",
    "\n",
    "/* Button styles */\n",
    ".button {\n",
    "    display: inline-block;\n",
    "    padding: 10px 20px;\n",
    "    background-color: #007bff;\n",
    "    color: #fff;\n",
    "    text-decoration: none;\n",
    "    border: none;\n",
    "    border-radius: 5px;\n",
    "    cursor: pointer;\n",
    "}\n",
    "\n",
    ".button:hover {\n",
    "    background-color: #0056b3;\n",
    "}\n",
    "\n",
    "/* Form styles */\n",
    "form {\n",
    "    margin-top: 20px;\n",
    "}\n",
    "\n",
    "/* Footer styles */\n",
    "footer {\n",
    "    background-color: #333;\n",
    "    color: #fff;\n",
    "    text-align: center;\n",
    "    padding: 10px;\n",
    "}\n"
   ]
  },
  {
   "cell_type": "code",
   "execution_count": null,
   "metadata": {},
   "outputs": [
    {
     "ename": "SyntaxError",
     "evalue": "invalid syntax (2639956066.py, line 1)",
     "output_type": "error",
     "traceback": [
      "\u001b[1;36m  Cell \u001b[1;32mIn[37], line 1\u001b[1;36m\u001b[0m\n\u001b[1;33m    <link rel=\"stylesheet\" href=\"{{ url_for('static', filename='style.css') }}\">\u001b[0m\n\u001b[1;37m    ^\u001b[0m\n\u001b[1;31mSyntaxError\u001b[0m\u001b[1;31m:\u001b[0m invalid syntax\n"
     ]
    }
   ],
   "source": [
    "<link rel=\"stylesheet\" href=\"{{ url_for('static', filename='style.css') }}\">\n"
   ]
  },
  {
   "cell_type": "code",
   "execution_count": null,
   "metadata": {},
   "outputs": [
    {
     "ename": "SyntaxError",
     "evalue": "invalid syntax (4194631627.py, line 1)",
     "output_type": "error",
     "traceback": [
      "\u001b[1;36m  Cell \u001b[1;32mIn[38], line 1\u001b[1;36m\u001b[0m\n\u001b[1;33m    <head>\u001b[0m\n\u001b[1;37m    ^\u001b[0m\n\u001b[1;31mSyntaxError\u001b[0m\u001b[1;31m:\u001b[0m invalid syntax\n"
     ]
    }
   ],
   "source": [
    "<head>\n",
    "    <link rel=\"stylesheet\" href=\"{{ url_for('static', filename='style.css') }}\">\n",
    "</head>\n"
   ]
  },
  {
   "cell_type": "code",
   "execution_count": null,
   "metadata": {},
   "outputs": [
    {
     "ename": "SyntaxError",
     "evalue": "invalid syntax (2286623166.py, line 1)",
     "output_type": "error",
     "traceback": [
      "\u001b[1;36m  Cell \u001b[1;32mIn[39], line 1\u001b[1;36m\u001b[0m\n\u001b[1;33m    <button class=\"button\" type=\"submit\">Submit</button>\u001b[0m\n\u001b[1;37m    ^\u001b[0m\n\u001b[1;31mSyntaxError\u001b[0m\u001b[1;31m:\u001b[0m invalid syntax\n"
     ]
    }
   ],
   "source": [
    "<button class=\"button\" type=\"submit\">Submit</button>\n"
   ]
  },
  {
   "cell_type": "code",
   "execution_count": null,
   "metadata": {},
   "outputs": [
    {
     "ename": "ModuleNotFoundError",
     "evalue": "No module named 'app'",
     "output_type": "error",
     "traceback": [
      "\u001b[1;31m---------------------------------------------------------------------------\u001b[0m",
      "\u001b[1;31mModuleNotFoundError\u001b[0m                       Traceback (most recent call last)",
      "Cell \u001b[1;32mIn[40], line 2\u001b[0m\n\u001b[0;32m      1\u001b[0m \u001b[39mimport\u001b[39;00m \u001b[39munittest\u001b[39;00m\n\u001b[1;32m----> 2\u001b[0m \u001b[39mfrom\u001b[39;00m \u001b[39mapp\u001b[39;00m \u001b[39mimport\u001b[39;00m app\n\u001b[0;32m      4\u001b[0m \u001b[39mclass\u001b[39;00m \u001b[39mPaymentSystemTestCase\u001b[39;00m(unittest\u001b[39m.\u001b[39mTestCase):\n\u001b[0;32m      5\u001b[0m     \u001b[39mdef\u001b[39;00m \u001b[39msetUp\u001b[39m(\u001b[39mself\u001b[39m):\n\u001b[0;32m      6\u001b[0m         \u001b[39m# Create a test client\u001b[39;00m\n",
      "\u001b[1;31mModuleNotFoundError\u001b[0m: No module named 'app'"
     ]
    }
   ],
   "source": [
    "import unittest\n",
    "from app import app\n",
    "\n",
    "class PaymentSystemTestCase(unittest.TestCase):\n",
    "    def setUp(self):\n",
    "        # Create a test client\n",
    "        self.app = app.test_client()\n",
    "        self.app.testing = True\n",
    "\n",
    "    def tearDown(self):\n",
    "        pass\n",
    "\n",
    "    def test_home_page(self):\n",
    "        # Test the home page\n",
    "        response = self.app.get('/')\n",
    "        self.assertEqual(response.status_code, 200)\n",
    "        self.assertIn(b'Magic Internet Money Payment System', response.data)\n",
    "\n",
    "    def test_payment_page(self):\n",
    "        # Test the payment page\n",
    "        response = self.app.get('/payment')\n",
    "        self.assertEqual(response.status_code, 200)\n",
    "        self.assertIn(b'Choose Payment Type', response.data)\n",
    "\n",
    "    def test_bitcoin_payment(self):\n",
    "        # Test Bitcoin payment\n",
    "        response = self.app.post('/payment', data={'payment_type': 'bitcoin'})\n",
    "        self.assertEqual(response.status_code, 200)\n",
    "        self.assertIn(b'Payment Type: Bitcoin', response.data)\n",
    "\n",
    "    def test_lightning_payment(self):\n",
    "        # Test Lightning payment\n",
    "        response = self.app.post('/payment', data={'payment_type': 'lightning'})\n",
    "        self.assertEqual(response.status_code, 200)\n",
    "        self.assertIn(b'Payment Type: Lightning', response.data)\n",
    "\n",
    "if __name__ == '__main__':\n",
    "    unittest.main()\n"
   ]
  },
  {
   "cell_type": "code",
   "execution_count": null,
   "metadata": {},
   "outputs": [
    {
     "ename": "SyntaxError",
     "evalue": "invalid syntax (1129454462.py, line 1)",
     "output_type": "error",
     "traceback": [
      "\u001b[1;36m  Cell \u001b[1;32mIn[41], line 1\u001b[1;36m\u001b[0m\n\u001b[1;33m    sudo apt update\u001b[0m\n\u001b[1;37m         ^\u001b[0m\n\u001b[1;31mSyntaxError\u001b[0m\u001b[1;31m:\u001b[0m invalid syntax\n"
     ]
    }
   ],
   "source": [
    "sudo apt update\n",
    "sudo apt upgrade\n"
   ]
  },
  {
   "cell_type": "code",
   "execution_count": null,
   "metadata": {},
   "outputs": [
    {
     "ename": "SyntaxError",
     "evalue": "invalid syntax (2688959183.py, line 1)",
     "output_type": "error",
     "traceback": [
      "\u001b[1;36m  Cell \u001b[1;32mIn[42], line 1\u001b[1;36m\u001b[0m\n\u001b[1;33m    sudo apt install python3 python3-pip nginx\u001b[0m\n\u001b[1;37m         ^\u001b[0m\n\u001b[1;31mSyntaxError\u001b[0m\u001b[1;31m:\u001b[0m invalid syntax\n"
     ]
    }
   ],
   "source": [
    "sudo apt install python3 python3-pip nginx\n",
    "pip3 install virtualenv\n"
   ]
  },
  {
   "cell_type": "code",
   "execution_count": null,
   "metadata": {},
   "outputs": [
    {
     "ename": "SyntaxError",
     "evalue": "invalid syntax (2326257251.py, line 1)",
     "output_type": "error",
     "traceback": [
      "\u001b[1;36m  Cell \u001b[1;32mIn[43], line 1\u001b[1;36m\u001b[0m\n\u001b[1;33m    python3 -m venv venv\u001b[0m\n\u001b[1;37m               ^\u001b[0m\n\u001b[1;31mSyntaxError\u001b[0m\u001b[1;31m:\u001b[0m invalid syntax\n"
     ]
    }
   ],
   "source": [
    "python3 -m venv venv\n",
    "source venv/bin/activate\n"
   ]
  },
  {
   "cell_type": "code",
   "execution_count": null,
   "metadata": {},
   "outputs": [
    {
     "name": "stdout",
     "output_type": "stream",
     "text": [
      "Note: you may need to restart the kernel to use updated packages.\n"
     ]
    },
    {
     "name": "stderr",
     "output_type": "stream",
     "text": [
      "ERROR: Could not open requirements file: [Errno 2] No such file or directory: 'requirements.txt'\n",
      "\n",
      "[notice] A new release of pip available: 22.2.1 -> 23.2.1\n",
      "[notice] To update, run: python.exe -m pip install --upgrade pip\n"
     ]
    }
   ],
   "source": [
    "pip install -r requirements.txt\n"
   ]
  },
  {
   "cell_type": "code",
   "execution_count": null,
   "metadata": {},
   "outputs": [
    {
     "ename": "SyntaxError",
     "evalue": "invalid syntax (1231244191.py, line 1)",
     "output_type": "error",
     "traceback": [
      "\u001b[1;36m  Cell \u001b[1;32mIn[45], line 1\u001b[1;36m\u001b[0m\n\u001b[1;33m    gunicorn -b 0.0.0.0:8000 -w 4 your_app:app\u001b[0m\n\u001b[1;37m                ^\u001b[0m\n\u001b[1;31mSyntaxError\u001b[0m\u001b[1;31m:\u001b[0m invalid syntax\n"
     ]
    }
   ],
   "source": [
    "gunicorn -b 0.0.0.0:8000 -w 4 your_app:app\n"
   ]
  },
  {
   "cell_type": "code",
   "execution_count": null,
   "metadata": {},
   "outputs": [
    {
     "ename": "SyntaxError",
     "evalue": "invalid syntax (2002170086.py, line 1)",
     "output_type": "error",
     "traceback": [
      "\u001b[1;36m  Cell \u001b[1;32mIn[46], line 1\u001b[1;36m\u001b[0m\n\u001b[1;33m    sudo nano /etc/systemd/system/your_app.service\u001b[0m\n\u001b[1;37m         ^\u001b[0m\n\u001b[1;31mSyntaxError\u001b[0m\u001b[1;31m:\u001b[0m invalid syntax\n"
     ]
    }
   ],
   "source": [
    "sudo nano /etc/systemd/system/your_app.service\n"
   ]
  },
  {
   "cell_type": "code",
   "execution_count": null,
   "metadata": {},
   "outputs": [
    {
     "ename": "SyntaxError",
     "evalue": "invalid syntax (2853462943.py, line 2)",
     "output_type": "error",
     "traceback": [
      "\u001b[1;36m  Cell \u001b[1;32mIn[47], line 2\u001b[1;36m\u001b[0m\n\u001b[1;33m    Description=Gunicorn instance to serve your Flask application\u001b[0m\n\u001b[1;37m                         ^\u001b[0m\n\u001b[1;31mSyntaxError\u001b[0m\u001b[1;31m:\u001b[0m invalid syntax\n"
     ]
    }
   ],
   "source": [
    "[Unit]\n",
    "Description=Gunicorn instance to serve your Flask application\n",
    "After=network.target\n",
    "\n",
    "[Service]\n",
    "User=your_username\n",
    "Group=your_group\n",
    "WorkingDirectory=/path/to/your/app\n",
    "ExecStart=/path/to/venv/bin/gunicorn -b 0.0.0.0:8000 -w 4 your_app:app\n",
    "\n",
    "[Install]\n",
    "WantedBy=multi-user.target\n"
   ]
  },
  {
   "cell_type": "code",
   "execution_count": null,
   "metadata": {},
   "outputs": [
    {
     "ename": "SyntaxError",
     "evalue": "invalid syntax (3937554880.py, line 1)",
     "output_type": "error",
     "traceback": [
      "\u001b[1;36m  Cell \u001b[1;32mIn[48], line 1\u001b[1;36m\u001b[0m\n\u001b[1;33m    sudo systemctl enable your_app\u001b[0m\n\u001b[1;37m         ^\u001b[0m\n\u001b[1;31mSyntaxError\u001b[0m\u001b[1;31m:\u001b[0m invalid syntax\n"
     ]
    }
   ],
   "source": [
    "sudo systemctl enable your_app\n",
    "sudo systemctl start your_app\n"
   ]
  },
  {
   "cell_type": "code",
   "execution_count": null,
   "metadata": {},
   "outputs": [
    {
     "ename": "SyntaxError",
     "evalue": "invalid syntax. Perhaps you forgot a comma? (2973460957.py, line 2)",
     "output_type": "error",
     "traceback": [
      "\u001b[1;36m  Cell \u001b[1;32mIn[49], line 2\u001b[1;36m\u001b[0m\n\u001b[1;33m    listen 80;\u001b[0m\n\u001b[1;37m    ^\u001b[0m\n\u001b[1;31mSyntaxError\u001b[0m\u001b[1;31m:\u001b[0m invalid syntax. Perhaps you forgot a comma?\n"
     ]
    }
   ],
   "source": [
    "server {\n",
    "    listen 80;\n",
    "    server_name your_domain.com www.your_domain.com;\n",
    "\n",
    "    location / {\n",
    "        proxy_pass http://127.0.0.1:8000;\n",
    "        include /etc/nginx/proxy_params;\n",
    "    }\n",
    "\n",
    "    location /static {\n",
    "        alias /path/to/your/app/static;\n",
    "    }\n",
    "\n",
    "    location /media {\n",
    "        alias /path/to/your/app/media;\n",
    "    }\n",
    "}\n"
   ]
  },
  {
   "cell_type": "code",
   "execution_count": null,
   "metadata": {},
   "outputs": [
    {
     "ename": "SyntaxError",
     "evalue": "invalid syntax (1622792699.py, line 1)",
     "output_type": "error",
     "traceback": [
      "\u001b[1;36m  Cell \u001b[1;32mIn[50], line 1\u001b[1;36m\u001b[0m\n\u001b[1;33m    sudo ln -s /etc/nginx/sites-available/your_app /etc/nginx/sites-enabled/\u001b[0m\n\u001b[1;37m         ^\u001b[0m\n\u001b[1;31mSyntaxError\u001b[0m\u001b[1;31m:\u001b[0m invalid syntax\n"
     ]
    }
   ],
   "source": [
    "sudo ln -s /etc/nginx/sites-available/your_app /etc/nginx/sites-enabled/\n"
   ]
  },
  {
   "cell_type": "code",
   "execution_count": null,
   "metadata": {},
   "outputs": [
    {
     "ename": "SyntaxError",
     "evalue": "invalid syntax (1907342633.py, line 1)",
     "output_type": "error",
     "traceback": [
      "\u001b[1;36m  Cell \u001b[1;32mIn[51], line 1\u001b[1;36m\u001b[0m\n\u001b[1;33m    sudo nginx -t\u001b[0m\n\u001b[1;37m         ^\u001b[0m\n\u001b[1;31mSyntaxError\u001b[0m\u001b[1;31m:\u001b[0m invalid syntax\n"
     ]
    }
   ],
   "source": [
    "sudo nginx -t\n"
   ]
  },
  {
   "cell_type": "code",
   "execution_count": null,
   "metadata": {},
   "outputs": [
    {
     "ename": "SyntaxError",
     "evalue": "invalid syntax (3028839467.py, line 1)",
     "output_type": "error",
     "traceback": [
      "\u001b[1;36m  Cell \u001b[1;32mIn[52], line 1\u001b[1;36m\u001b[0m\n\u001b[1;33m    sudo systemctl reload nginx\u001b[0m\n\u001b[1;37m         ^\u001b[0m\n\u001b[1;31mSyntaxError\u001b[0m\u001b[1;31m:\u001b[0m invalid syntax\n"
     ]
    }
   ],
   "source": [
    "sudo systemctl reload nginx\n"
   ]
  },
  {
   "cell_type": "code",
   "execution_count": null,
   "metadata": {},
   "outputs": [
    {
     "ename": "SyntaxError",
     "evalue": "invalid syntax (4071798276.py, line 1)",
     "output_type": "error",
     "traceback": [
      "\u001b[1;36m  Cell \u001b[1;32mIn[53], line 1\u001b[1;36m\u001b[0m\n\u001b[1;33m    sudo systemctl restart your_app\u001b[0m\n\u001b[1;37m         ^\u001b[0m\n\u001b[1;31mSyntaxError\u001b[0m\u001b[1;31m:\u001b[0m invalid syntax\n"
     ]
    }
   ],
   "source": [
    "sudo systemctl restart your_app\n"
   ]
  }
 ],
 "metadata": {
  "kernelspec": {
   "display_name": "Python 3",
   "language": "python",
   "name": "python3"
  },
  "language_info": {
   "codemirror_mode": {
    "name": "ipython",
    "version": 3
   },
   "file_extension": ".py",
   "mimetype": "text/x-python",
   "name": "python",
   "nbconvert_exporter": "python",
   "pygments_lexer": "ipython3",
   "version": "3.10.6"
  },
  "orig_nbformat": 4
 },
 "nbformat": 4,
 "nbformat_minor": 2
}
